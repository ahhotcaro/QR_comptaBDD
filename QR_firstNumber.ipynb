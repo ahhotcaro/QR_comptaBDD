{
 "cells": [
  {
   "cell_type": "markdown",
   "id": "4d716bae-26c8-4713-8012-3381e785e15e",
   "metadata": {},
   "source": [
    "### Create a new colomn with the first number of the compta number"
   ]
  },
  {
   "cell_type": "code",
   "execution_count": 10,
   "id": "81ce28a3-ef74-45cb-9159-b95d81b97b5c",
   "metadata": {},
   "outputs": [],
   "source": [
    "import pandas\n",
    "pandas.__version__\n",
    "import numpy as np\n",
    "import pandas as pd\n",
    "import matplotlib.pyplot as plt"
   ]
  },
  {
   "cell_type": "code",
   "execution_count": 11,
   "id": "148e91f1-2431-45dc-8c6b-ad3382933b41",
   "metadata": {},
   "outputs": [],
   "source": [
    "grand_livre = pd.read_excel(\"QR_rendu_2020-2021.xlsx\")"
   ]
  },
  {
   "cell_type": "code",
   "execution_count": 12,
   "id": "a2d247b1-527d-483c-ab6f-b6a675767d0a",
   "metadata": {},
   "outputs": [
    {
     "data": {
      "text/html": [
       "<div>\n",
       "<style scoped>\n",
       "    .dataframe tbody tr th:only-of-type {\n",
       "        vertical-align: middle;\n",
       "    }\n",
       "\n",
       "    .dataframe tbody tr th {\n",
       "        vertical-align: top;\n",
       "    }\n",
       "\n",
       "    .dataframe thead th {\n",
       "        text-align: right;\n",
       "    }\n",
       "</style>\n",
       "<table border=\"1\" class=\"dataframe\">\n",
       "  <thead>\n",
       "    <tr style=\"text-align: right;\">\n",
       "      <th></th>\n",
       "      <th>date</th>\n",
       "      <th>plan_compta</th>\n",
       "      <th>Intitulé du compte général</th>\n",
       "      <th>debit</th>\n",
       "      <th>credit</th>\n",
       "      <th>solde progressif</th>\n",
       "    </tr>\n",
       "  </thead>\n",
       "  <tbody>\n",
       "    <tr>\n",
       "      <th>0</th>\n",
       "      <td>01/07/20</td>\n",
       "      <td>1013</td>\n",
       "      <td>CAPITAL</td>\n",
       "      <td>NaN</td>\n",
       "      <td>82322.70</td>\n",
       "      <td>-82322.70</td>\n",
       "    </tr>\n",
       "    <tr>\n",
       "      <th>1</th>\n",
       "      <td>01/07/20</td>\n",
       "      <td>1061</td>\n",
       "      <td>RESERVE LEGALE</td>\n",
       "      <td>NaN</td>\n",
       "      <td>8232.00</td>\n",
       "      <td>-8232.00</td>\n",
       "    </tr>\n",
       "    <tr>\n",
       "      <th>2</th>\n",
       "      <td>01/07/20</td>\n",
       "      <td>1068</td>\n",
       "      <td>AUTRES RESERVES</td>\n",
       "      <td>NaN</td>\n",
       "      <td>1874389.99</td>\n",
       "      <td>-1874389.99</td>\n",
       "    </tr>\n",
       "    <tr>\n",
       "      <th>3</th>\n",
       "      <td>20/11/20</td>\n",
       "      <td>110</td>\n",
       "      <td>Report à nouveau (solde créditeur)</td>\n",
       "      <td>NaN</td>\n",
       "      <td>71310.67</td>\n",
       "      <td>-71310.67</td>\n",
       "    </tr>\n",
       "    <tr>\n",
       "      <th>4</th>\n",
       "      <td>01/07/20</td>\n",
       "      <td>119</td>\n",
       "      <td>Report à nouveau (solde débiteur)</td>\n",
       "      <td>516859.36</td>\n",
       "      <td>NaN</td>\n",
       "      <td>516859.36</td>\n",
       "    </tr>\n",
       "    <tr>\n",
       "      <th>...</th>\n",
       "      <td>...</td>\n",
       "      <td>...</td>\n",
       "      <td>...</td>\n",
       "      <td>...</td>\n",
       "      <td>...</td>\n",
       "      <td>...</td>\n",
       "    </tr>\n",
       "    <tr>\n",
       "      <th>18589</th>\n",
       "      <td>28/02/21</td>\n",
       "      <td>79141</td>\n",
       "      <td>AVANTAGE EN NATURE</td>\n",
       "      <td>NaN</td>\n",
       "      <td>2189.40</td>\n",
       "      <td>-17905.78</td>\n",
       "    </tr>\n",
       "    <tr>\n",
       "      <th>18590</th>\n",
       "      <td>31/03/21</td>\n",
       "      <td>79141</td>\n",
       "      <td>AVANTAGE EN NATURE</td>\n",
       "      <td>NaN</td>\n",
       "      <td>2189.40</td>\n",
       "      <td>-20095.18</td>\n",
       "    </tr>\n",
       "    <tr>\n",
       "      <th>18591</th>\n",
       "      <td>30/04/21</td>\n",
       "      <td>79141</td>\n",
       "      <td>AVANTAGE EN NATURE</td>\n",
       "      <td>NaN</td>\n",
       "      <td>2189.40</td>\n",
       "      <td>-22284.58</td>\n",
       "    </tr>\n",
       "    <tr>\n",
       "      <th>18592</th>\n",
       "      <td>31/05/21</td>\n",
       "      <td>79141</td>\n",
       "      <td>AVANTAGE EN NATURE</td>\n",
       "      <td>NaN</td>\n",
       "      <td>2189.40</td>\n",
       "      <td>-24473.98</td>\n",
       "    </tr>\n",
       "    <tr>\n",
       "      <th>18593</th>\n",
       "      <td>30/06/21</td>\n",
       "      <td>79141</td>\n",
       "      <td>AVANTAGE EN NATURE</td>\n",
       "      <td>NaN</td>\n",
       "      <td>2189.40</td>\n",
       "      <td>-26663.38</td>\n",
       "    </tr>\n",
       "  </tbody>\n",
       "</table>\n",
       "<p>18594 rows × 6 columns</p>\n",
       "</div>"
      ],
      "text/plain": [
       "           date plan_compta          Intitulé du compte général      debit  \\\n",
       "0      01/07/20        1013                             CAPITAL        NaN   \n",
       "1      01/07/20        1061                      RESERVE LEGALE        NaN   \n",
       "2      01/07/20        1068                     AUTRES RESERVES        NaN   \n",
       "3      20/11/20         110  Report à nouveau (solde créditeur)        NaN   \n",
       "4      01/07/20         119   Report à nouveau (solde débiteur)  516859.36   \n",
       "...         ...         ...                                 ...        ...   \n",
       "18589  28/02/21       79141                  AVANTAGE EN NATURE        NaN   \n",
       "18590  31/03/21       79141                  AVANTAGE EN NATURE        NaN   \n",
       "18591  30/04/21       79141                  AVANTAGE EN NATURE        NaN   \n",
       "18592  31/05/21       79141                  AVANTAGE EN NATURE        NaN   \n",
       "18593  30/06/21       79141                  AVANTAGE EN NATURE        NaN   \n",
       "\n",
       "           credit  solde progressif  \n",
       "0        82322.70         -82322.70  \n",
       "1         8232.00          -8232.00  \n",
       "2      1874389.99       -1874389.99  \n",
       "3        71310.67         -71310.67  \n",
       "4             NaN         516859.36  \n",
       "...           ...               ...  \n",
       "18589     2189.40         -17905.78  \n",
       "18590     2189.40         -20095.18  \n",
       "18591     2189.40         -22284.58  \n",
       "18592     2189.40         -24473.98  \n",
       "18593     2189.40         -26663.38  \n",
       "\n",
       "[18594 rows x 6 columns]"
      ]
     },
     "execution_count": 12,
     "metadata": {},
     "output_type": "execute_result"
    }
   ],
   "source": [
    "grand_livre"
   ]
  },
  {
   "cell_type": "code",
   "execution_count": 19,
   "id": "4586f2ec-c7ba-4963-9faa-6a239a09e398",
   "metadata": {},
   "outputs": [],
   "source": [
    "grand_livre[\"categorie\"] = grand_livre[\"plan_compta\"]"
   ]
  },
  {
   "cell_type": "code",
   "execution_count": 20,
   "id": "0ae1bee5-7753-4285-848a-9f3ca28b624f",
   "metadata": {},
   "outputs": [
    {
     "name": "stderr",
     "output_type": "stream",
     "text": [
      "/var/folders/5q/87z082dj7tj77tn02lnz8tv80000gn/T/ipykernel_3269/4858262.py:3: SettingWithCopyWarning: \n",
      "A value is trying to be set on a copy of a slice from a DataFrame\n",
      "\n",
      "See the caveats in the documentation: https://pandas.pydata.org/pandas-docs/stable/user_guide/indexing.html#returning-a-view-versus-a-copy\n",
      "  grand_livre[\"categorie\"][i] = grand_livre[\"plan_compta\"][i][0:1]\n"
     ]
    }
   ],
   "source": [
    "# une erreur mais ça fonctionne\n",
    "for i in range (grand_livre.shape[0]):\n",
    "    grand_livre[\"categorie\"][i] = grand_livre[\"plan_compta\"][i][0:1]"
   ]
  },
  {
   "cell_type": "code",
   "execution_count": 21,
   "id": "121fb9c6-3ed1-446d-aa43-1c9ae4317ced",
   "metadata": {},
   "outputs": [],
   "source": [
    "# créer au préalable un fichier excel \n",
    "file_name = 'QR_rendu_2020-2021.xlsx'"
   ]
  },
  {
   "cell_type": "code",
   "execution_count": 22,
   "id": "9e4045d9-f7c5-490c-8e14-7895e3b4ab47",
   "metadata": {},
   "outputs": [
    {
     "name": "stdout",
     "output_type": "stream",
     "text": [
      "Sales record successfully exported into Excel File\n"
     ]
    }
   ],
   "source": [
    "grand_livre.to_excel(file_name)\n",
    "print('Sales record successfully exported into Excel File')"
   ]
  },
  {
   "cell_type": "code",
   "execution_count": null,
   "id": "f68a023b-ed48-4cec-89cb-9b3f0b321980",
   "metadata": {},
   "outputs": [],
   "source": []
  }
 ],
 "metadata": {
  "kernelspec": {
   "display_name": "Python 3 (ipykernel)",
   "language": "python",
   "name": "python3"
  },
  "language_info": {
   "codemirror_mode": {
    "name": "ipython",
    "version": 3
   },
   "file_extension": ".py",
   "mimetype": "text/x-python",
   "name": "python",
   "nbconvert_exporter": "python",
   "pygments_lexer": "ipython3",
   "version": "3.9.7"
  }
 },
 "nbformat": 4,
 "nbformat_minor": 5
}
