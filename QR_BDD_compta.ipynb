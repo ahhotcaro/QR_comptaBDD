{
 "cells": [
  {
   "cell_type": "markdown",
   "id": "fad1857a-6d15-405e-b20c-2b492eae2cb2",
   "metadata": {
    "tags": []
   },
   "source": [
    "## Protocole à suivre pour l'ensemble de la procédure"
   ]
  },
  {
   "cell_type": "markdown",
   "id": "efbaa401-e90e-4b30-83e6-c77346cd6cd9",
   "metadata": {
    "tags": []
   },
   "source": [
    "### Importation des librairies"
   ]
  },
  {
   "cell_type": "code",
   "execution_count": null,
   "id": "b4dec413-7407-422f-941b-ef5aa21679ef",
   "metadata": {},
   "outputs": [],
   "source": [
    "import pandas\n",
    "pandas.__version__\n",
    "import numpy as np\n",
    "import pandas as pd\n",
    "import matplotlib.pyplot as plt\n"
   ]
  },
  {
   "cell_type": "markdown",
   "id": "f89e89ed-8324-46fd-a3bc-9db59c683275",
   "metadata": {
    "tags": []
   },
   "source": [
    "### Création du fichier avec les colonnes date, numero compta et plan, débit, crédit, solde progressif"
   ]
  },
  {
   "cell_type": "code",
   "execution_count": null,
   "id": "32432bed-a3a8-438d-b5e4-d5810cb7e867",
   "metadata": {},
   "outputs": [],
   "source": [
    "# le read_excel prend en argument le chemin qui va le mener vers le fichier voulu\n",
    "grand_livre = pd.read_excel(\"Grand livre 2020-2021.xls\")\n",
    "# pour vérifier qu'on a bien le fichier, afficher le dataframe \n",
    "grand_livre"
   ]
  },
  {
   "cell_type": "code",
   "execution_count": null,
   "id": "18ec39ba-3b73-4d73-8792-756b2189f416",
   "metadata": {},
   "outputs": [],
   "source": [
    "# on sélectionne les colonnes avec la date, le plan_compta, le débit, le crédit, le solde progressif\n",
    "# à noter que des erreurs pourraient survenir si le grand livre ne suit pas le même format \n",
    "data = grand_livre[[\"MON BRICO ETS AH-HOT\",\"Unnamed: 1\",\"Unnamed: 14\",\"Unnamed: 16\",\"Unnamed: 18\"]]\n",
    "# on sélectionne les lignes qui nous intéressent, ie. celles qui ont un numéro compta ou une date\n",
    "data_filtered_2 = data[data[\"Unnamed: 18\"].notna() | data[\"Unnamed: 1\"].notna()]\n",
    "data_filtered_3 = data_filtered_2[data_filtered_2[\"MON BRICO ETS AH-HOT\"] != \"Date\"]\n",
    "data_filtered_4 = data_filtered_3[data_filtered_3[\"MON BRICO ETS AH-HOT\"] != \"Total Grand Livre\"]\n",
    "# vérification \n",
    "data_filtered_4\n"
   ]
  },
  {
   "cell_type": "code",
   "execution_count": null,
   "id": "5dca5479-f14b-42c4-af8b-0fddf9ea2ea1",
   "metadata": {},
   "outputs": [],
   "source": [
    "data_filtered_5 = data_filtered_4\n"
   ]
  },
  {
   "cell_type": "code",
   "execution_count": null,
   "id": "711268cd-c7f4-4475-85f7-8124e25c2420",
   "metadata": {},
   "outputs": [],
   "source": [
    "# ce bloc permet d'attribuer à chaque date le numéro compta et de filtrer les lignes\n",
    "# ignorer les erreurs\n",
    "for i in data_filtered_5[\"Unnamed: 1\"].index: \n",
    "    if pd.isna(data_filtered_4[\"Unnamed: 1\"][i]) :\n",
    "        data_filtered_5[\"Unnamed: 1\"][i] = data_filtered_5[\"Unnamed: 1\"][i-1]\n",
    "        \n",
    "data_filtered_6 = data_filtered_5[data_filtered_5[\"Unnamed: 18\"].notna()]\n",
    "data_filtered_7 = data_filtered_6[data_filtered_6[\"MON BRICO ETS AH-HOT\"].notna()]\n",
    "\n"
   ]
  },
  {
   "cell_type": "code",
   "execution_count": null,
   "id": "373d79c2-ebec-4edf-9a54-15f2b3710920",
   "metadata": {},
   "outputs": [],
   "source": [
    "# vérification \n",
    "data_filtered_7\n"
   ]
  },
  {
   "cell_type": "markdown",
   "id": "112e58d3-ebc4-42dc-8284-c5142647c15c",
   "metadata": {
    "tags": []
   },
   "source": [
    "### Renommer les colonnes\n"
   ]
  },
  {
   "cell_type": "code",
   "execution_count": null,
   "id": "b2be3dd1-597a-4148-b5bf-45e0c936ad79",
   "metadata": {},
   "outputs": [],
   "source": [
    "# attention, python est sensible à la casse\n",
    "data_filtered_7 = data_filtered_7.rename(columns = {'MON BRICO ETS AH-HOT' : 'date', 'Unnamed: 1': 'plan_compta', 'Unnamed: 14': 'debit', 'Unnamed: 16':'credit', 'Unnamed: 18': 'solde progressif'})\n",
    "# vérification\n",
    "data_filtered_7\n"
   ]
  },
  {
   "cell_type": "markdown",
   "id": "a98bac29-ab86-4864-bb31-136ac4254fe3",
   "metadata": {
    "tags": []
   },
   "source": [
    "### Split des plans comptables"
   ]
  },
  {
   "cell_type": "code",
   "execution_count": null,
   "id": "06ceb3b9-3375-44aa-b81e-0759da752c9c",
   "metadata": {},
   "outputs": [],
   "source": [
    "# supprimer le mot 'Suite' \n",
    "data_filtered_7['plan_compta'] = data_filtered_7['plan_compta'].str.replace('Suite ','')\n",
    "# supprimer les chaines de caractères après le premier \" \" pour ne garder que le numéro compta\n",
    "var_test = data_filtered_7['plan_compta'].str.split(' ').str[0]\n",
    "# assigner à plan_compta la nouvelle valeur\n",
    "data_filtered_7['plan_compta'] = var_test\n",
    "# vérification\n",
    "data_filtered_7\n"
   ]
  },
  {
   "cell_type": "markdown",
   "id": "27997eee-49ae-4c5b-bae2-cbfc521a3e41",
   "metadata": {
    "tags": []
   },
   "source": [
    "### Merge de deux dataframes"
   ]
  },
  {
   "cell_type": "code",
   "execution_count": null,
   "id": "5ae28d42-30b3-458f-aabc-f3394b4467c9",
   "metadata": {},
   "outputs": [],
   "source": [
    "# on va merge avec le plan comptable  \n",
    "plan_comptable = pd.read_excel(\"Plan comptable.xls\")\n"
   ]
  },
  {
   "cell_type": "code",
   "execution_count": null,
   "id": "c190f422-e94d-4eca-a680-2932b6d2dc3b",
   "metadata": {},
   "outputs": [],
   "source": [
    "# renommer la colonne 'N° du compte' pour pouvoir faire le lien des deux dataframes\n",
    "plan_comptable = plan_comptable.rename(columns = {'N° du compte' : 'plan_compta'})"
   ]
  },
  {
   "cell_type": "code",
   "execution_count": null,
   "id": "8b6215b8-4ad6-489f-9061-15c0ef4c7372",
   "metadata": {},
   "outputs": [],
   "source": [
    "#afficher le plan compable\n",
    "plan_comptable\n"
   ]
  },
  {
   "cell_type": "code",
   "execution_count": null,
   "id": "e00574d7-eda8-4bf4-8dc3-63c3c2998cd9",
   "metadata": {},
   "outputs": [],
   "source": [
    "grand_livre_V1 = data_filtered_7.merge(plan_comptable, how='left', on='plan_compta')\n",
    "# vérification \n",
    "grand_livre_V1\n"
   ]
  },
  {
   "cell_type": "code",
   "execution_count": null,
   "id": "112d7438-5cab-4d75-91fb-1e0c9da75384",
   "metadata": {},
   "outputs": [],
   "source": [
    "# sélection des colonnes qui nous intéressent\n",
    "grand_livre_V2 = grand_livre_V1[[\"date\",\"plan_compta\",\"Intitulé du compte général\",\"debit\",\"credit\",\"solde progressif\"]]\n",
    "# vérification \n",
    "grand_livre_V2\n"
   ]
  },
  {
   "cell_type": "markdown",
   "id": "45685974-9165-40a3-9ceb-3548b0eff85c",
   "metadata": {
    "tags": []
   },
   "source": [
    "### Création d'une colonne avec le premier chiffre du numéro compta"
   ]
  },
  {
   "cell_type": "code",
   "execution_count": null,
   "id": "21f84572-4268-46e4-ab9e-dd0f368b6a02",
   "metadata": {},
   "outputs": [],
   "source": [
    "# ne pas faire attention aux erreurs\n",
    "grand_livre_V2[\"categorie\"] = grand_livre_V2[\"plan_compta\"]\n",
    "\n",
    "for i in range (grand_livre_V2.shape[0]):\n",
    "    grand_livre_V2[\"categorie\"][i] = grand_livre_V2[\"plan_compta\"][i][0:1]\n",
    "    \n",
    "# vérification\n",
    "grand_livre_V2 "
   ]
  },
  {
   "cell_type": "markdown",
   "id": "b9d253af",
   "metadata": {
    "tags": []
   },
   "source": [
    "### Création de la colonne \"solde\" , dérivée des colonnes existantes"
   ]
  },
  {
   "cell_type": "code",
   "execution_count": null,
   "id": "3eb67735",
   "metadata": {},
   "outputs": [],
   "source": [
    "# on remplace les cellules vides de débit et de crédit par des 0\n",
    "# affichage d'erreurs possible, ne pas en tenir compte\n",
    "grand_livre_V2['debit'] = grand_livre_V2[\"debit\"].fillna(0)\n",
    "\n",
    "grand_livre_V2['credit'] = grand_livre_V2[\"credit\"].fillna(0)"
   ]
  },
  {
   "cell_type": "code",
   "execution_count": null,
   "id": "9b924f29",
   "metadata": {},
   "outputs": [],
   "source": [
    "grand_livre_V2[\"solde\"] = grand_livre_V2[\"debit\"] -  grand_livre_V2[\"credit\"]\n",
    "grand_livre_V2\n"
   ]
  },
  {
   "cell_type": "markdown",
   "id": "2ef92c0d",
   "metadata": {
    "tags": []
   },
   "source": [
    "### Mise en page"
   ]
  },
  {
   "cell_type": "markdown",
   "id": "734f3ee3",
   "metadata": {
    "tags": []
   },
   "source": [
    "#### Création des colonnes mois / annee"
   ]
  },
  {
   "cell_type": "code",
   "execution_count": null,
   "id": "e0b53645",
   "metadata": {},
   "outputs": [],
   "source": [
    "# mise en forme de la date en format date\n",
    "grand_livre_V2[\"date\"] = pd.to_datetime(grand_livre_V2[\"date\"], format='%d/%m/%y')\n",
    "\n",
    "grand_livre_V2[\"mois\"] = grand_livre_V2[\"date\"]\n",
    "grand_livre_V2[\"mois\"] = grand_livre_V2[\"date\"].dt.month\n",
    "grand_livre_V2[\"annee\"] = grand_livre_V2[\"date\"]\n",
    "grand_livre_V2[\"annee\"] = grand_livre_V2[\"date\"].dt.year\n",
    "\n"
   ]
  },
  {
   "cell_type": "markdown",
   "id": "dcc36d7f",
   "metadata": {
    "tags": []
   },
   "source": [
    "#### Modifier l'ordre des colonnes"
   ]
  },
  {
   "cell_type": "code",
   "execution_count": null,
   "id": "31ee83bb",
   "metadata": {},
   "outputs": [],
   "source": [
    "grand_livre_V2 = grand_livre_V2[['annee','mois','date','categorie','plan_compta','Intitulé du compte général','debit','credit','solde','solde progressif']]\n",
    "# vérification\n",
    "grand_livre_V2\n"
   ]
  },
  {
   "cell_type": "markdown",
   "id": "0d79d27f-db8d-4816-b498-ea2d235f7255",
   "metadata": {
    "tags": []
   },
   "source": [
    "### Création d'un nouveau fichier excel \n"
   ]
  },
  {
   "cell_type": "code",
   "execution_count": null,
   "id": "a3372475-a195-42a1-9a56-113c7cd7235e",
   "metadata": {},
   "outputs": [],
   "source": [
    "# création du fichier\n",
    "# indiquer entre guillemets le nom du fichier qu'on veut créer\n",
    "file_name = 'QR_rendu_2019-2020.xlsx'\n",
    "grand_livre_V2.to_excel(file_name)\n",
    "print('Sales record successfully exported into Excel File')\n"
   ]
  },
  {
   "cell_type": "markdown",
   "id": "99cb54c5-d62a-46b1-9a55-928ffb6db390",
   "metadata": {
    "tags": []
   },
   "source": [
    "### Concaténation de deux dataframes"
   ]
  },
  {
   "cell_type": "code",
   "execution_count": null,
   "id": "baa43aeb-1512-409a-b155-d3a39141b209",
   "metadata": {},
   "outputs": [],
   "source": [
    "rendu_2019_2020 = pd.read_excel(\"QR_rendu_2019-2020.xlsx\")\n",
    "rendu_2020_2021 = pd.read_excel(\"QR_rendu_2020-2021.xlsx\")\n"
   ]
  },
  {
   "cell_type": "code",
   "execution_count": null,
   "id": "f5540958-2a9f-4d74-99ee-665543a43a87",
   "metadata": {},
   "outputs": [],
   "source": [
    "# vérifier au préalable que les deux tableaux à concaténer ont les mêmes intitulés aux colonnes\n",
    "rendu_2019_2021 = pd.concat([rendu_2019_2020, rendu_2020_2021], axis=0)\n"
   ]
  },
  {
   "cell_type": "code",
   "execution_count": null,
   "id": "45c30c57-f558-41c8-8328-451f0b0ee22e",
   "metadata": {},
   "outputs": [],
   "source": [
    "# supprimer la colonne unnamed 0\n",
    "rendu_2019_2021 = rendu_2019_2021.drop(columns=[\"Unnamed: 0\"])\n",
    "# vérification\n",
    "rendu_2019_2021\n"
   ]
  },
  {
   "cell_type": "markdown",
   "id": "16b492b5-db2a-4370-bd09-c9d0e633d648",
   "metadata": {
    "tags": []
   },
   "source": [
    "#### Rendu création excel"
   ]
  },
  {
   "cell_type": "code",
   "execution_count": null,
   "id": "fbe60ca4-f6c8-460e-a061-75e854f1c7f3",
   "metadata": {},
   "outputs": [],
   "source": [
    "# création du fichier\n",
    "# indiquer entre guillemets le nom du fichier qu'on veut créer\n",
    "file_name = 'QR_rendu_2019-2021.xlsx'\n",
    "rendu_2019_2021.to_excel(file_name)\n",
    "print('Sales record successfully exported into Excel File')\n"
   ]
  },
  {
   "cell_type": "markdown",
   "id": "89eaaa70-e2c8-4d19-ac59-2770e8e22530",
   "metadata": {
    "tags": []
   },
   "source": [
    "### Outils qui pourraient servir"
   ]
  },
  {
   "cell_type": "markdown",
   "id": "439a027f-332c-4ddc-9c93-6c1c4af7c24c",
   "metadata": {
    "jp-MarkdownHeadingCollapsed": true,
    "tags": []
   },
   "source": [
    "#### exemple de recherche par mois et année"
   ]
  },
  {
   "cell_type": "code",
   "execution_count": null,
   "id": "ed8476a0-bfd6-4cbc-b3c8-bbf674f12aa2",
   "metadata": {},
   "outputs": [],
   "source": [
    "mars_2020 = rendu_2019_2021.loc[(rendu_2019_2021[\"date\"] >= \"2020-03-01\") & (rendu_2019_2021[\"date\"] <= \"2020-03-31\")]\n"
   ]
  },
  {
   "cell_type": "markdown",
   "id": "1e143d23-226a-4a83-a391-6165e368c6e3",
   "metadata": {
    "jp-MarkdownHeadingCollapsed": true,
    "tags": []
   },
   "source": [
    "#### tracer un graphe"
   ]
  },
  {
   "cell_type": "code",
   "execution_count": null,
   "id": "798b0cc2-9ac7-47f0-b78d-6bcc0a647070",
   "metadata": {},
   "outputs": [],
   "source": [
    "nom_fichier = pd.read_excel(\"nom_fichier.xlsx\")\n"
   ]
  },
  {
   "cell_type": "code",
   "execution_count": null,
   "id": "4bb9ffd2-2e8f-4cfb-bc03-e08b3aa0d80b",
   "metadata": {},
   "outputs": [],
   "source": [
    "nom_fichier\n"
   ]
  },
  {
   "cell_type": "code",
   "execution_count": null,
   "id": "e9ac7784-9b0b-4c38-bbd9-64b07f2bfb4a",
   "metadata": {},
   "outputs": [],
   "source": [
    "plt_av = nom_fichier[nom_fichier[\"nom_colonne\"] == \"attribut_colonne\"]"
   ]
  },
  {
   "cell_type": "code",
   "execution_count": null,
   "id": "852fe5bd-55d9-4f8d-bd58-bc9b7bb392f1",
   "metadata": {},
   "outputs": [],
   "source": [
    "# affichage\n",
    "plt_av.plot.scatter(x=\"dates\", y=\"solde progressif\", alpha=0.5)"
   ]
  }
 ],
 "metadata": {
  "kernelspec": {
   "display_name": "Python 3 (ipykernel)",
   "language": "python",
   "name": "python3"
  },
  "language_info": {
   "codemirror_mode": {
    "name": "ipython",
    "version": 3
   },
   "file_extension": ".py",
   "mimetype": "text/x-python",
   "name": "python",
   "nbconvert_exporter": "python",
   "pygments_lexer": "ipython3",
   "version": "3.9.7"
  }
 },
 "nbformat": 4,
 "nbformat_minor": 5
}
